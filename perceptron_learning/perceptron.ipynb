{
  "nbformat": 4,
  "nbformat_minor": 0,
  "metadata": {
    "colab": {
      "name": "perceptron.ipynb",
      "provenance": [],
      "authorship_tag": "ABX9TyNgX7KzoR+ZMm5fipBUk5QK",
      "include_colab_link": true
    },
    "kernelspec": {
      "name": "python3",
      "display_name": "Python 3"
    }
  },
  "cells": [
    {
      "cell_type": "markdown",
      "metadata": {
        "id": "view-in-github",
        "colab_type": "text"
      },
      "source": [
        "<a href=\"https://colab.research.google.com/github/othrif/DataInsights/blob/master/perceptron_learning/perceptron.ipynb\" target=\"_parent\"><img src=\"https://colab.research.google.com/assets/colab-badge.svg\" alt=\"Open In Colab\"/></a>"
      ]
    },
    {
      "cell_type": "markdown",
      "metadata": {
        "id": "OQ_xyp8HSbgm",
        "colab_type": "text"
      },
      "source": [
        "# Perceptron\n",
        "Example of how a perceptron works!"
      ]
    },
    {
      "cell_type": "code",
      "metadata": {
        "id": "C_KMqM_CSaVy",
        "colab_type": "code",
        "colab": {}
      },
      "source": [
        ""
      ],
      "execution_count": 0,
      "outputs": []
    }
  ]
}