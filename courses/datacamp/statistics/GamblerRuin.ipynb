{
  "nbformat": 4,
  "nbformat_minor": 0,
  "metadata": {
    "colab": {
      "name": "GamblerRuin.ipynb",
      "provenance": [],
      "collapsed_sections": [],
      "authorship_tag": "ABX9TyMCvD9oUYOjyvgYijuiuWvV",
      "include_colab_link": true
    },
    "kernelspec": {
      "name": "python3",
      "display_name": "Python 3"
    }
  },
  "cells": [
    {
      "cell_type": "markdown",
      "metadata": {
        "id": "view-in-github",
        "colab_type": "text"
      },
      "source": [
        "<a href=\"https://colab.research.google.com/github/othrif/DataInsights/blob/master/statistics/GamblerRuin.ipynb\" target=\"_parent\"><img src=\"https://colab.research.google.com/assets/colab-badge.svg\" alt=\"Open In Colab\"/></a>"
      ]
    },
    {
      "cell_type": "code",
      "metadata": {
        "id": "ckOG3-2K54lm",
        "colab_type": "code",
        "colab": {}
      },
      "source": [
        ""
      ],
      "execution_count": null,
      "outputs": []
    },
    {
      "cell_type": "markdown",
      "metadata": {
        "id": "EdLoh2Mm55Qa",
        "colab_type": "text"
      },
      "source": [
        "# Gambler's ruin problem\n",
        "Player M has \\$1 and player N has \\$2. Each game gives the winner $1. Both players play until one of them is bankrupt. Player M wins 2/3 of the time. What is the probability that M wins?"
      ]
    },
    {
      "cell_type": "markdown",
      "metadata": {
        "id": "J0n6GQ8qg__l",
        "colab_type": "text"
      },
      "source": [
        "### First attempt"
      ]
    },
    {
      "cell_type": "code",
      "metadata": {
        "id": "J9Zq-Xjq57JU",
        "colab_type": "code",
        "colab": {
          "base_uri": "https://localhost:8080/",
          "height": 68
        },
        "outputId": "3ccf61c3-1df2-4fbd-b799-fd1140f8608e"
      },
      "source": [
        "import numpy as np \n",
        "import matplotlib.pyplot as plt\n",
        "#np.random.seed(123) \n",
        "\n",
        "class Player:\n",
        "\n",
        "  def __init__(self, name, prob, money):\n",
        "    self.name = name\n",
        "    self.prob = prob\n",
        "    self.init_money = money\n",
        "    self.money = money\n",
        "  \n",
        "def play(player1, player2, doPlot=False):\n",
        "  allnums=[]\n",
        "  player1.money = player1.init_money\n",
        "  player2.money = player2.init_money\n",
        "  player1_money = [player1.money]\n",
        "  player2_money = [player2.money]\n",
        "\n",
        "  while player1.money>0 and player2.money>0:\n",
        "    val = np.random.choice(np.array([0,1]),p=[player1.prob,player2.prob])\n",
        "    allnums.append(val)\n",
        "    if val<1:\n",
        "      player1.money += 1\n",
        "      player2.money -= 1\n",
        "      player1_money.append(player1.money)\n",
        "      player2_money.append(player2.money)\n",
        "    else:\n",
        "      player1.money -= 1\n",
        "      player2.money += 1 \n",
        "      player1_money.append(player1.money)\n",
        "      player2_money.append(player2.money)\n",
        "\n",
        "  if doPlot:\n",
        "    plt.hist(allnums,bins=[0,1,2], density=True)\n",
        "    plt.show\n",
        "    plt.clf()\n",
        "\n",
        "  np_player1_money = np.array(player1_money)\n",
        "  np_player2_money = np.array(player2_money)\n",
        "  \n",
        "  if doPlot:\n",
        "    print(np_player1_money)\n",
        "    print(np_player2_money)\n",
        "    plt.plot(np_player1_money)\n",
        "    plt.plot(np_player2_money)\n",
        "    plt.show\n",
        "\n",
        "  if player1.money == 0:\n",
        "    winner = player2.name\n",
        "  else:\n",
        "    winner = player1.name\n",
        "\n",
        "  return winner\n",
        "\n",
        "def repeatGame(player1, player2, niter=10, doPlot=False):\n",
        "  count_player1 = 0\n",
        "  count_player2 = 0\n",
        "  for i in range(niter):\n",
        "    if(doPlot): print('\\nIter {}'.format(i))\n",
        "    whowins = play(player1, player2, doPlot)\n",
        "    if(doPlot): print(whowins)\n",
        "    if whowins == player1.name:\n",
        "      count_player1 += 1\n",
        "    else:\n",
        "      count_player2 += 1\n",
        "    if(doPlot): print('M={}, N={}'.format(count_player1, count_player2))\n",
        "  print(f'Winning probability of {player1.name} = {count_player1/niter} and of {player2.name} = {count_player2/niter} ')\n",
        "  return count_player1/niter, count_player2/niter\n",
        "  \n",
        "\n",
        "\n",
        "M = Player('M', 2/3, 1)\n",
        "N = Player('N', 1/3, 2)\n",
        "\n",
        "prob_M, prob_N = repeatGame(M,N, niter=10000, doPlot=False)\n",
        "print(f'Starting from ${M.init_money}, player {M.name} has {prob_M} probability of winning.')\n",
        "print(f'Starting from ${N.init_money}, player {N.name} has {prob_N} probability of winning.')\n",
        "\n"
      ],
      "execution_count": 57,
      "outputs": [
        {
          "output_type": "stream",
          "text": [
            "Winning probability of M = 0.5708 and of N = 0.4292 \n",
            "Starting from $1, player M has 0.5708 probability of winning.\n",
            "Starting from $2, player N has 0.4292 probability of winning.\n"
          ],
          "name": "stdout"
        }
      ]
    },
    {
      "cell_type": "markdown",
      "metadata": {
        "id": "48FzZxNag7ln",
        "colab_type": "text"
      },
      "source": [
        "### Alternative and much simpler solution"
      ]
    },
    {
      "cell_type": "code",
      "metadata": {
        "id": "fAxikXHDGK9V",
        "colab_type": "code",
        "colab": {}
      },
      "source": [
        "import numpy as np\n",
        "\n",
        "number_of_simulations = 10000\n",
        "\n",
        "# Create an array of wins of length equal to number_of_simulations\n",
        "wins = [False] * number_of_simulations\n",
        "\n",
        "# Fair Game\n",
        "prob = 2/3\n",
        "p1_balance = 1\n",
        "p2_balance = 2\n",
        "\n",
        "for i in range(number_of_simulations):\n",
        "    p1b = p1_balance\n",
        "    p2b = p2_balance\n",
        "\n",
        "    # Play until p1 or p2 is getting ruined\n",
        "    while p1b > 0 and p2b > 0:\n",
        "        p1_win = np.random.uniform(0, 1) < prob\n",
        "\n",
        "        p1b = p1b + 1 if p1_win else p1b - 1\n",
        "\n",
        "        p2b = p2b - 1 if p1_win else p2b + 1\n",
        "\n",
        "    # Set to True, if p1 still not ruined        \n",
        "    wins[i] = p1b > 0\n",
        "\n",
        "prob_p1_wins = sum(wins)/number_of_simulations\n",
        "\n",
        "print(f'Player 1\\'s probability of wining is: {prob_p1_wins}')"
      ],
      "execution_count": null,
      "outputs": []
    },
    {
      "cell_type": "markdown",
      "metadata": {
        "id": "PCFdZ4FqhKGO",
        "colab_type": "text"
      },
      "source": [
        ""
      ]
    },
    {
      "cell_type": "code",
      "metadata": {
        "id": "ki2pL463Hg3j",
        "colab_type": "code",
        "colab": {}
      },
      "source": [
        ""
      ],
      "execution_count": null,
      "outputs": []
    }
  ]
}