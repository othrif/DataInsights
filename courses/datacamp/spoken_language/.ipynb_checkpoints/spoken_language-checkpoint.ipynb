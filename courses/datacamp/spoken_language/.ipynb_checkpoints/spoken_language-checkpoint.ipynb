{
 "cells": [
  {
   "cell_type": "markdown",
   "metadata": {},
   "source": [
    "# Spoken language processing"
   ]
  },
  {
   "cell_type": "markdown",
   "metadata": {},
   "source": [
    "### Import audio file with python"
   ]
  },
  {
   "cell_type": "code",
   "execution_count": 8,
   "metadata": {},
   "outputs": [
    {
     "name": "stdout",
     "output_type": "stream",
     "text": [
      "b'\\xfd\\xff'\n"
     ]
    }
   ],
   "source": [
    "import wave\n",
    "\n",
    "# Create audio file wave object\n",
    "good_morning = wave.open('./good_morning.wav', 'r')\n",
    "good_afternoon = wave.open('./good_afternoon.wav', 'r')\n",
    "\n",
    "# Read all frames from wave object \n",
    "signal_gm = good_morning.readframes(-1)\n",
    "signal_ga = good_afternoon.readframes(-1)\n",
    "\n",
    "# View first 10\n",
    "print(signal_gm[:2])"
   ]
  },
  {
   "cell_type": "markdown",
   "metadata": {},
   "source": [
    "### Convert byte form to integer"
   ]
  },
  {
   "cell_type": "code",
   "execution_count": 9,
   "metadata": {},
   "outputs": [
    {
     "name": "stdout",
     "output_type": "stream",
     "text": [
      "[ -3  -5  -8  -8  -9 -13  -8 -10  -9 -11]\n"
     ]
    }
   ],
   "source": [
    "import numpy as np\n",
    "# Convert good morning audio bytes to integers\n",
    "soundwave_gm = np.frombuffer(signal_gm, dtype='int16')\n",
    "soundwave_ga = np.frombuffer(signal_ga, dtype='int16')\n",
    "print(soundwave_gm[:10])"
   ]
  },
  {
   "cell_type": "markdown",
   "metadata": {},
   "source": [
    "### Timestamps"
   ]
  },
  {
   "cell_type": "code",
   "execution_count": 12,
   "metadata": {},
   "outputs": [
    {
     "name": "stdout",
     "output_type": "stream",
     "text": [
      "[0.00000000e+00 2.08334167e-05 4.16668333e-05 6.25002500e-05\n",
      " 8.33336667e-05 1.04167083e-04 1.25000500e-04 1.45833917e-04\n",
      " 1.66667333e-04 1.87500750e-04]\n"
     ]
    }
   ],
   "source": [
    "# Get the sound wave frame rate\n",
    "framerate_gm = good_morning.getframerate()\n",
    "framerate_ga = good_afternoon.getframerate()\n",
    "\n",
    "# Find the sound wave timestamps\n",
    "time_gm = np.linspace(start=0, stop=len(soundwave_gm)/framerate_gm, num=len(soundwave_gm))\n",
    "time_ga = np.linspace(start=0, stop=len(soundwave_ga)/framerate_ga, num=len(soundwave_ga))\n",
    "\n",
    "# Print the first 10 timestamps\n",
    "print(time_gm[:10])"
   ]
  },
  {
   "cell_type": "markdown",
   "metadata": {},
   "source": [
    "### Visualize sound wave"
   ]
  },
  {
   "cell_type": "code",
   "execution_count": 15,
   "metadata": {},
   "outputs": [
    {
     "data": {
      "image/png": "[encoded data removed]",
      "text/plain": [
       "<Figure size 432x288 with 1 Axes>"
      ]
     },
     "metadata": {
      "needs_background": "light"
     },
     "output_type": "display_data"
    }
   ],
   "source": [
    "from matplotlib import pyplot as plt\n",
    "\n",
    "# Setup the title and axis titles\n",
    "plt.title('Good Afternoon vs. Good afternoon')\n",
    "plt.ylabel('Amplitude')\n",
    "plt.xlabel('Time (seconds)')\n",
    "\n",
    "# Add the Good Afternoon data to the plot\n",
    "plt.plot(time_ga, soundwave_ga, label='Good Afternoon')\n",
    "\n",
    "# Add the Good Morning data to the plot\n",
    "plt.plot(time_gm, soundwave_gm, label='Good Morning', alpha=0.5)\n",
    "\n",
    "plt.legend()\n",
    "plt.show()"
   ]
  },
  {
   "cell_type": "markdown",
   "metadata": {},
   "source": [
    "### SpeechRecognition library"
   ]
  },
  {
   "cell_type": "code",
   "execution_count": 30,
   "metadata": {},
   "outputs": [
    {
     "name": "stdout",
     "output_type": "stream",
     "text": [
      "hello I'd like to get some help setting up my account please\n"
     ]
    }
   ],
   "source": [
    "# Importing the speech_recognition library\n",
    "import speech_recognition as sr\n",
    "\n",
    "# Create an instance of the Recognizer class\n",
    "recognizer = sr.Recognizer()\n",
    "\n",
    "# Set the energy threshold\n",
    "recognizer.energy_threshold = 300\n",
    "\n",
    "# Read audio \n",
    "clean_support_call = sr.AudioFile('clean_support_call.wav')\n",
    "\n",
    "with clean_support_call as source:\n",
    "    clean_support_call_audio = recognizer.record(source, duration=None, offset=None)\n",
    "\n",
    "# Transcribe the support call audio\n",
    "text = recognizer.recognize_google(audio_data=clean_support_call_audio, language='en-US')\n",
    "\n",
    "print(text)"
   ]
  },
  {
   "cell_type": "markdown",
   "metadata": {},
   "source": [
    "#### With noise"
   ]
  },
  {
   "cell_type": "code",
   "execution_count": 34,
   "metadata": {},
   "outputs": [
    {
     "name": "stdout",
     "output_type": "stream",
     "text": [
      "hello I'd like to get to help setting up my calendar\n"
     ]
    }
   ],
   "source": [
    "noisy_support_call = sr.AudioFile('noisy_support_call.wav')\n",
    "\n",
    "recognizer = sr.Recognizer()\n",
    "\n",
    "# Record the audio from the noisy support call\n",
    "with noisy_support_call as source:\n",
    "    # Adjust the recognizer energy threshold for ambient noise\n",
    "    recognizer.adjust_for_ambient_noise(source, duration=0.5)\n",
    "    noisy_support_call_audio = recognizer.record(noisy_support_call)\n",
    " \n",
    "# Transcribe the speech from the noisy support call\n",
    "text = recognizer.recognize_google(noisy_support_call_audio,\n",
    "                                   language=\"en-US\",\n",
    "                                   show_all=False)\n",
    "\n",
    "print(text)"
   ]
  },
  {
   "cell_type": "markdown",
   "metadata": {},
   "source": [
    "# PyDub"
   ]
  },
  {
   "cell_type": "markdown",
   "metadata": {},
   "source": [
    "## Read audio"
   ]
  },
  {
   "cell_type": "code",
   "execution_count": 14,
   "metadata": {},
   "outputs": [],
   "source": [
    "# Import AudioSegment and play\n",
    "from pydub import AudioSegment\n",
    "from pydub.playback import play\n",
    "\n",
    "# Create an AudioSegment instance\n",
    "wav_file = AudioSegment.from_file(file='good_morning.wav', \n",
    "                                  format=\"wav\")\n",
    "\n",
    "# Play the audio file\n",
    "play(wav_file)"
   ]
  },
  {
   "cell_type": "markdown",
   "metadata": {},
   "source": [
    "## Change properties"
   ]
  },
  {
   "cell_type": "code",
   "execution_count": 31,
   "metadata": {},
   "outputs": [
    {
     "name": "stdout",
     "output_type": "stream",
     "text": [
      "Frame rate: 48000\n",
      "Number of channels: 2\n",
      "Sample width: 2 * 8 bits\n",
      "Max amplitude: 14257\n",
      "Length: 2604 ms\n",
      "Length: 2.604 s\n"
     ]
    }
   ],
   "source": [
    "# Audio parameters\n",
    "print(f'Frame rate: {wav_file.frame_rate}')\n",
    "print(f'Number of channels: {wav_file.channels}')\n",
    "print(f'Sample width: {wav_file.sample_width} * 8 bits')\n",
    "print(f'Max amplitude: {wav_file.max}')\n",
    "print(f'Length: {len(wav_file)} ms')\n",
    "print(f'Length: {wav_file.duration_seconds} s')"
   ]
  },
  {
   "cell_type": "code",
   "execution_count": 32,
   "metadata": {},
   "outputs": [
    {
     "name": "stdout",
     "output_type": "stream",
     "text": [
      "Frame rate: 16000\n",
      "Number of channels: 1\n",
      "New sample width: 1\n"
     ]
    }
   ],
   "source": [
    "# Create a new wav file with adjusted frame rate\n",
    "wav_file_16k = wav_file.set_frame_rate(16000)\n",
    "print(f'Frame rate: {wav_file_16k.frame_rate}')\n",
    "# Set number of channels to 1\n",
    "wav_file_1_ch = wav_file.set_channels(1)\n",
    "print(f'Number of channels: {wav_file_1_ch.channels}')\n",
    "# Set sample_width to 1\n",
    "wav_file_sw_1 = wav_file.set_sample_width(1)\n",
    "print(f'New sample width: {wav_file_sw_1.sample_width}')"
   ]
  },
  {
   "cell_type": "markdown",
   "metadata": {},
   "source": [
    "## Manipulating audio files"
   ]
  },
  {
   "cell_type": "code",
   "execution_count": 36,
   "metadata": {},
   "outputs": [],
   "source": [
    "from pydub import AudioSegment\n",
    "from pydub.playback import play\n",
    "\n",
    "# Import audio file\n",
    "volume_adjusted = AudioSegment.from_file('clean_support_call.wav')\n",
    "\n",
    "# Baseline\n",
    "play(volume_adjusted)\n",
    "# Lower the volume by 60 dB\n",
    "quiet_volume_adjusted = volume_adjusted - 60\n",
    "play(quiet_volume_adjusted)\n",
    "# Increase the volume by 15 dB\n",
    "louder_volume_adjusted = volume_adjusted + 15\n",
    "play(louder_volume_adjusted)"
   ]
  },
  {
   "cell_type": "markdown",
   "metadata": {},
   "source": [
    "### Normalizing an audio file\n",
    "It happens when you have different loudness levels in the audio"
   ]
  },
  {
   "cell_type": "code",
   "execution_count": 2,
   "metadata": {},
   "outputs": [],
   "source": [
    "# Import AudioSegment and normalize\n",
    "from pydub import AudioSegment\n",
    "from pydub.effects import normalize\n",
    "from pydub.playback import play\n",
    "\n",
    "# Import target audio file\n",
    "loud_then_quiet = AudioSegment.from_file('loud_then_quiet.wav')\n",
    "play(loud_then_quiet)\n",
    "\n",
    "# Normalize target audio file\n",
    "normalized_loud_then_quiet = normalize(loud_then_quiet)\n",
    "play(normalized_loud_then_quiet)"
   ]
  },
  {
   "cell_type": "markdown",
   "metadata": {},
   "source": [
    "### Slicing and adding audio files"
   ]
  },
  {
   "cell_type": "code",
   "execution_count": 5,
   "metadata": {},
   "outputs": [],
   "source": [
    "from pydub import AudioSegment\n",
    "from pydub.playback import play\n",
    "\n",
    "# Import part 1 and part 2 audio files\n",
    "part_1 = AudioSegment.from_file('part_1.wav', format='wav')\n",
    "part_2 = AudioSegment.from_file('part_2.wav')\n",
    "\n",
    "# Remove the first four seconds of part 1\n",
    "part_1_removed = part_1[4000:]\n",
    "\n",
    "# Add the remainder of part 1 and part 2 together\n",
    "part_3 = part_1_removed + part_2"
   ]
  },
  {
   "cell_type": "markdown",
   "metadata": {},
   "source": [
    "### Splitting stereo audio to mono"
   ]
  },
  {
   "cell_type": "code",
   "execution_count": 8,
   "metadata": {},
   "outputs": [
    {
     "name": "stdout",
     "output_type": "stream",
     "text": [
      "Stereo number channels: 2\n",
      "Split number channels: 1, 1\n"
     ]
    }
   ],
   "source": [
    "# Import AudioSegment\n",
    "from pydub import AudioSegment\n",
    "\n",
    "# Import stereo audio file and check channels\n",
    "stereo_phone_call = AudioSegment.from_file('stereo_phone_call.wav')\n",
    "print(f'Stereo number channels: {stereo_phone_call.channels}')\n",
    "\n",
    "# Split stereo phone call and check channels\n",
    "channels = stereo_phone_call.split_to_mono()\n",
    "print(f'Split number channels: {channels[0].channels}, {channels[1].channels}')\n",
    "\n",
    "# Save new channels separately\n",
    "phone_call_channel_1 = channels[0]\n",
    "phone_call_channel_2 = channels[1]"
   ]
  },
  {
   "cell_type": "markdown",
   "metadata": {},
   "source": [
    "### Convert and save audio"
   ]
  },
  {
   "cell_type": "code",
   "execution_count": 9,
   "metadata": {},
   "outputs": [
    {
     "data": {
      "text/plain": [
       "<_io.BufferedRandom name='normalized_loud_then_quiet.wav'>"
      ]
     },
     "execution_count": 9,
     "metadata": {},
     "output_type": "execute_result"
    }
   ],
   "source": [
    "normalized_loud_then_quiet.export(out_f='normalized_loud_then_quiet.wav', format='wav')"
   ]
  },
  {
   "cell_type": "markdown",
   "metadata": {},
   "source": [
    "### Audio processing workflow"
   ]
  },
  {
   "cell_type": "code",
   "execution_count": 10,
   "metadata": {},
   "outputs": [],
   "source": [
    "def make_wav(old_folder_path, new_folder_path):\n",
    "    \n",
    "    for file in os.scandir(old_folder_path):\n",
    "        if file.path.endswith(\".mp3\") or file.path.endswith(\".flac\"):\n",
    "            \n",
    "            file_with_static = AudioSegment.from_file(file)\n",
    "\n",
    "            # Cut the 3-seconds of static off\n",
    "            file_without_static = file_with_static[3000:]\n",
    "\n",
    "            # Increase the volume by 10dB\n",
    "            louder_file_without_static = file_without_static + 10\n",
    "    \n",
    "            # Create the .wav filename for export\n",
    "            wav_filename = new_folder_path + os.path.splitext(os.path.basename(audio_file))[0] + \".wav\"\n",
    "    \n",
    "            # Export the louder file without static as .wav\n",
    "            louder_file_without_static.export(wav_filename, format='wav')\n",
    "            print(f\"Creating {wav_filename}...\")"
   ]
  },
  {
   "cell_type": "markdown",
   "metadata": {},
   "source": [
    "# Full project with speech recognition and NLP"
   ]
  },
  {
   "cell_type": "code",
   "execution_count": 3,
   "metadata": {},
   "outputs": [
    {
     "name": "stdout",
     "output_type": "stream",
     "text": [
      "Converting good_morning.wav to good_morning.wav...\n",
      "Channels: 2\n",
      "Sample width: 2\n",
      "Frame rate (sample rate): 48000\n",
      "Frame width: 4\n",
      "Length (ms): 2604\n",
      "good morning\n"
     ]
    }
   ],
   "source": [
    "## Standard imports\n",
    "from pydub import AudioSegment\n",
    "import speech_recognition as sr\n",
    "from pydub.playback import play\n",
    "from pydub.effects import normalize\n",
    "\n",
    "\n",
    "## Helper Functions\n",
    "\n",
    "def convert_to_wav(filename):\n",
    "  \"\"\"Takes an audio file of non .wav format and converts to .wav\"\"\"\n",
    "  # Import audio file\n",
    "  audio = AudioSegment.from_file(filename)\n",
    "  \n",
    "  # Create new filename\n",
    "  new_filename = filename.split(\".\")[0] + '.wav'\n",
    "  \n",
    "  # Export file as .wav\n",
    "  audio.export(new_filename, format='wav')\n",
    "  print(f'Converting {filename} to {new_filename}...')\n",
    " \n",
    "def show_pydub_stats(filename):\n",
    "  \"\"\"Returns different audio attributes related to an audio file.\"\"\"\n",
    "  # Create AudioSegment instance\n",
    "  audio_segment = AudioSegment.from_file(filename)\n",
    "  \n",
    "  # Print audio attributes and return AudioSegment instance\n",
    "  print(f'Channels: {audio_segment.channels}')\n",
    "  print(f'Sample width: {audio_segment.sample_width}')\n",
    "  print(f'Frame rate (sample rate): {audio_segment.frame_rate}')\n",
    "  print(f'Frame width: {audio_segment.frame_width}')\n",
    "  print(f'Length (ms): {len(audio_segment)}')\n",
    "  return audio_segment\n",
    "\n",
    "def transcribe_audio(filename):\n",
    "  \"\"\"Takes a .wav format audio file and transcribes it to text.\"\"\"\n",
    "  # Setup a recognizer instance\n",
    "  recognizer = sr.Recognizer()\n",
    "  \n",
    "  # Import the audio file and convert to audio data\n",
    "  audio_file = sr.AudioFile(filename)\n",
    "  with audio_file as source:\n",
    "    audio_data = recognizer.record(source)\n",
    "  \n",
    "  # Return the transcribed text\n",
    "  return recognizer.recognize_google(audio_data)\n",
    "\n",
    "# Test the functions\n",
    "convert_to_wav('good_morning.wav')\n",
    "call_1_audio_segment = show_pydub_stats('good_morning.wav')\n",
    "print(transcribe_audio('good_morning.wav'))"
   ]
  },
  {
   "cell_type": "markdown",
   "metadata": {},
   "source": [
    "### Sentiment analysis"
   ]
  },
  {
   "cell_type": "code",
   "execution_count": 4,
   "metadata": {},
   "outputs": [
    {
     "name": "stderr",
     "output_type": "stream",
     "text": [
      "[nltk_data] Downloading package punkt to /Users/othrif/nltk_data...\n",
      "[nltk_data]   Package punkt is already up-to-date!\n",
      "[nltk_data] Downloading package vader_lexicon to\n",
      "[nltk_data]     /Users/othrif/nltk_data...\n",
      "[nltk_data]   Package vader_lexicon is already up-to-date!\n"
     ]
    },
    {
     "data": {
      "text/plain": [
       "True"
      ]
     },
     "execution_count": 4,
     "metadata": {},
     "output_type": "execute_result"
    }
   ],
   "source": [
    "import nltk\n",
    "nltk.download('punkt')\n",
    "nltk.download('vader_lexicon')"
   ]
  },
  {
   "cell_type": "code",
   "execution_count": 5,
   "metadata": {},
   "outputs": [
    {
     "name": "stdout",
     "output_type": "stream",
     "text": [
      "hello my name is Daniel thank you for calling Acme Studios how can I best help you from you guys and extremely happy with it I'll just go to East not an issue but I'm just going to learn a little bit more about the message prank I had but I thought you on the corner of Edward and Elizabeth according to Google according to the maps but some would you be able to help me in some way because I think I actually walked straight past your shop yeah sure thing well thank you Sally that's good to hear you're enjoying it let me let me find out where the nearest stories for you\n",
      "{'neg': 0.0, 'neu': 0.737, 'pos': 0.263, 'compound': 0.9858}\n"
     ]
    }
   ],
   "source": [
    "from nltk.sentiment.vader import SentimentIntensityAnalyzer\n",
    "\n",
    "# Create SentimentIntensityAnalyzer instance\n",
    "sid = SentimentIntensityAnalyzer()\n",
    "\n",
    "# Let's try it on one of our phone calls\n",
    "call_2_text = transcribe_audio('call_2.wav')\n",
    "\n",
    "# Display text and sentiment polarity scores\n",
    "print(call_2_text)\n",
    "print(sid.polarity_scores(call_2_text))"
   ]
  },
  {
   "cell_type": "code",
   "execution_count": 6,
   "metadata": {},
   "outputs": [],
   "source": [
    "call_2_channel_2_paid_api_text=\"Hello and welcome to acme studios. My name's Daniel. How can I best help you? Hi Diane. This is paid on this call up to see the status of my, I'm proctor mortars at three weeks ago, and then service is terrible. Okay, Peter, sorry to hear about that. Hey, Peter, before we go on, do you mind just, uh, is there something going on with your microphone? I can't quite hear you. Is this any better? Yeah, that's much better. And sorry, what was, what was it that you said when you first first started speaking?  So I ordered a product from you guys three weeks ago and, uh, it's, it's currently on July 1st and I haven't received a provocative, again, three weeks to a full four weeks down line. This service is terrible. Okay. Well, what's your order id? I'll, uh, I'll start looking into that for you. Six, nine, eight, seven five. Okay. Thank you.\""
   ]
  },
  {
   "cell_type": "code",
   "execution_count": 7,
   "metadata": {},
   "outputs": [
    {
     "name": "stdout",
     "output_type": "stream",
     "text": [
      "Hello and welcome to acme studios.\n",
      "{'neg': 0.0, 'neu': 0.625, 'pos': 0.375, 'compound': 0.4588}\n",
      "My name's Daniel.\n",
      "{'neg': 0.0, 'neu': 1.0, 'pos': 0.0, 'compound': 0.0}\n",
      "How can I best help you?\n",
      "{'neg': 0.0, 'neu': 0.303, 'pos': 0.697, 'compound': 0.7845}\n",
      "Hi Diane.\n",
      "{'neg': 0.0, 'neu': 1.0, 'pos': 0.0, 'compound': 0.0}\n",
      "This is paid on this call up to see the status of my, I'm proctor mortars at three weeks ago, and then service is terrible.\n",
      "{'neg': 0.114, 'neu': 0.886, 'pos': 0.0, 'compound': -0.4767}\n",
      "Okay, Peter, sorry to hear about that.\n",
      "{'neg': 0.159, 'neu': 0.61, 'pos': 0.232, 'compound': 0.1531}\n",
      "Hey, Peter, before we go on, do you mind just, uh, is there something going on with your microphone?\n",
      "{'neg': 0.0, 'neu': 1.0, 'pos': 0.0, 'compound': 0.0}\n",
      "I can't quite hear you.\n",
      "{'neg': 0.0, 'neu': 1.0, 'pos': 0.0, 'compound': 0.0}\n",
      "Is this any better?\n",
      "{'neg': 0.0, 'neu': 0.508, 'pos': 0.492, 'compound': 0.4404}\n",
      "Yeah, that's much better.\n",
      "{'neg': 0.0, 'neu': 0.282, 'pos': 0.718, 'compound': 0.6249}\n",
      "And sorry, what was, what was it that you said when you first first started speaking?\n",
      "{'neg': 0.08, 'neu': 0.92, 'pos': 0.0, 'compound': -0.0772}\n",
      "So I ordered a product from you guys three weeks ago and, uh, it's, it's currently on July 1st and I haven't received a provocative, again, three weeks to a full four weeks down line.\n",
      "{'neg': 0.0, 'neu': 1.0, 'pos': 0.0, 'compound': 0.0}\n",
      "This service is terrible.\n",
      "{'neg': 0.508, 'neu': 0.492, 'pos': 0.0, 'compound': -0.4767}\n",
      "Okay.\n",
      "{'neg': 0.0, 'neu': 0.0, 'pos': 1.0, 'compound': 0.2263}\n",
      "Well, what's your order id?\n",
      "{'neg': 0.0, 'neu': 0.656, 'pos': 0.344, 'compound': 0.2732}\n",
      "I'll, uh, I'll start looking into that for you.\n",
      "{'neg': 0.0, 'neu': 1.0, 'pos': 0.0, 'compound': 0.0}\n",
      "Six, nine, eight, seven five.\n",
      "{'neg': 0.0, 'neu': 1.0, 'pos': 0.0, 'compound': 0.0}\n",
      "Okay.\n",
      "{'neg': 0.0, 'neu': 0.0, 'pos': 1.0, 'compound': 0.2263}\n",
      "Thank you.\n",
      "{'neg': 0.0, 'neu': 0.286, 'pos': 0.714, 'compound': 0.3612}\n"
     ]
    }
   ],
   "source": [
    "from nltk import sent_tokenize\n",
    "# Split channel 2 paid text into sentences and score each\n",
    "for sentence in sent_tokenize(call_2_channel_2_paid_api_text):\n",
    "    print(sentence)\n",
    "    print(sid.polarity_scores(sentence))"
   ]
  },
  {
   "cell_type": "markdown",
   "metadata": {},
   "source": [
    "### Entity recognition on transcribed text"
   ]
  },
  {
   "cell_type": "code",
   "execution_count": 28,
   "metadata": {},
   "outputs": [
    {
     "name": "stdout",
     "output_type": "stream",
     "text": [
      "smartphone smartphonehello my name is Daniel thank you for calling Acme Studios how can I best help you from you guys and extremely happy with it I'll just go to East not an issue but I'm just going to learn a little bit more about the message prank I had but I thought you on the corner of Edward and Elizabeth according to Google according to the maps but some would you be able to help me in some way because I think I actually walked straight past your shop yeah sure thing well thank you Sally that's good to hear you're enjoying it let me let me find out where the nearest stories for you smartphone smartphone smartphone smartphone\n",
      "<class 'spacy.tokens.doc.Doc'>\n"
     ]
    }
   ],
   "source": [
    "import spacy\n",
    "import en_core_web_sm\n",
    "\n",
    "\n",
    "# Create a spaCy language model instance\n",
    "nlp = en_core_web_sm.load()\n",
    "\n",
    "call_2_text = call_2_text+' smartphone'\n",
    "print(call_2_text)\n",
    "# Create a spaCy doc with call 4 channel 2 text\n",
    "doc = nlp(call_2_text)\n",
    "\n",
    "# Check the type of doc\n",
    "print(type(doc))"
   ]
  },
  {
   "cell_type": "code",
   "execution_count": 29,
   "metadata": {},
   "outputs": [
    {
     "name": "stdout",
     "output_type": "stream",
     "text": [
      "smartphone 0\n",
      "smartphonehello 11\n",
      "my 27\n",
      "name 30\n",
      "is 35\n",
      "Daniel 38\n",
      "thank 45\n",
      "you 51\n",
      "for 55\n",
      "calling 59\n",
      "Acme 67\n",
      "Studios 72\n",
      "how 80\n",
      "can 84\n",
      "I 88\n",
      "best 90\n",
      "help 95\n",
      "you 100\n",
      "from 104\n",
      "you 109\n",
      "guys 113\n",
      "and 118\n",
      "extremely 122\n",
      "happy 132\n",
      "with 138\n",
      "it 143\n",
      "I 146\n",
      "'ll 147\n",
      "just 151\n",
      "go 156\n",
      "to 159\n",
      "East 162\n",
      "not 167\n",
      "an 171\n",
      "issue 174\n",
      "but 180\n",
      "I 184\n",
      "'m 185\n",
      "just 188\n",
      "going 193\n",
      "to 199\n",
      "learn 202\n",
      "a 208\n",
      "little 210\n",
      "bit 217\n",
      "more 221\n",
      "about 226\n",
      "the 232\n",
      "message 236\n",
      "prank 244\n",
      "I 250\n",
      "had 252\n",
      "but 256\n",
      "I 260\n",
      "thought 262\n",
      "you 270\n",
      "on 274\n",
      "the 277\n",
      "corner 281\n",
      "of 288\n",
      "Edward 291\n",
      "and 298\n",
      "Elizabeth 302\n",
      "according 312\n",
      "to 322\n",
      "Google 325\n",
      "according 332\n",
      "to 342\n",
      "the 345\n",
      "maps 349\n",
      "but 354\n",
      "some 358\n",
      "would 363\n",
      "you 369\n",
      "be 373\n",
      "able 376\n",
      "to 381\n",
      "help 384\n",
      "me 389\n",
      "in 392\n",
      "some 395\n",
      "way 400\n",
      "because 404\n",
      "I 412\n",
      "think 414\n",
      "I 420\n",
      "actually 422\n",
      "walked 431\n",
      "straight 438\n",
      "past 447\n",
      "your 452\n",
      "shop 457\n",
      "yeah 462\n",
      "sure 467\n",
      "thing 472\n",
      "well 478\n",
      "thank 483\n",
      "you 489\n",
      "Sally 493\n",
      "that 499\n",
      "'s 503\n",
      "good 506\n",
      "to 511\n",
      "hear 514\n",
      "you 519\n",
      "'re 522\n",
      "enjoying 526\n",
      "it 535\n",
      "let 538\n",
      "me 542\n",
      "let 545\n",
      "me 549\n",
      "find 552\n",
      "out 557\n",
      "where 561\n",
      "the 567\n",
      "nearest 571\n",
      "stories 579\n",
      "for 587\n",
      "you 591\n",
      "smartphone 595\n",
      "smartphone 606\n",
      "smartphone 617\n",
      "smartphone 628\n"
     ]
    }
   ],
   "source": [
    "# Show tokens in doc\n",
    "for token in doc:\n",
    "    print(token.text, token.idx)"
   ]
  },
  {
   "cell_type": "code",
   "execution_count": 30,
   "metadata": {},
   "outputs": [
    {
     "name": "stdout",
     "output_type": "stream",
     "text": [
      "smartphone smartphonehello\n",
      "my name is\n",
      "Daniel thank you for calling Acme Studios\n",
      "how can I best help you from you guys and extremely happy with it\n",
      "I'll just go to East\n",
      "not an issue\n",
      "but I'm just going to learn a little bit more about the message prank\n",
      "I had\n",
      "but I thought you on the corner of Edward and Elizabeth according to Google\n",
      "according to the maps\n",
      "but some would you be able to help me in some way because I think I actually walked straight past your shop\n",
      "yeah\n",
      "sure thing\n",
      "well thank you Sally\n",
      "that's good to hear you're enjoying\n",
      "it let me let me find out where the nearest stories for you smartphone smartphone smartphone smartphone\n"
     ]
    }
   ],
   "source": [
    "# Show sentences in doc\n",
    "for sentence in doc.sents:\n",
    "    print(sentence)"
   ]
  },
  {
   "cell_type": "code",
   "execution_count": 31,
   "metadata": {},
   "outputs": [
    {
     "name": "stdout",
     "output_type": "stream",
     "text": [
      "Daniel PERSON\n",
      "Acme Studios ORG\n",
      "East LOC\n",
      "Edward PERSON\n",
      "Elizabeth PERSON\n",
      "Google ORG\n",
      "Sally PERSON\n"
     ]
    }
   ],
   "source": [
    "# Show named entities and their labels\n",
    "for entity in doc.ents:\n",
    "    print(entity.text, entity.label_)"
   ]
  },
  {
   "cell_type": "code",
   "execution_count": 32,
   "metadata": {},
   "outputs": [
    {
     "name": "stdout",
     "output_type": "stream",
     "text": [
      "[('tagger', <spacy.pipeline.pipes.Tagger object at 0x11f547be0>), ('parser', <spacy.pipeline.pipes.DependencyParser object at 0x12cf14be0>), ('ner', <spacy.pipeline.pipes.EntityRecognizer object at 0x12e02b280>)]\n"
     ]
    }
   ],
   "source": [
    "print(nlp.pipeline)\n",
    "# ner: name entity ruler"
   ]
  },
  {
   "cell_type": "code",
   "execution_count": 33,
   "metadata": {},
   "outputs": [],
   "source": [
    "# Custom named entity \n",
    "\n",
    "# Import EntityRuler class\n",
    "from spacy.pipeline import EntityRuler\n",
    "\n",
    "# Create EntityRuler instance\n",
    "ruler = EntityRuler(nlp)\n",
    "\n",
    "# Define pattern for new entity\n",
    "ruler.add_patterns([{\"label\": \"PRODUCT\", \"pattern\": \"smartphone\"}])\n",
    "\n",
    "# Update existing pipeline\n",
    "nlp.add_pipe(ruler, before=\"ner\")"
   ]
  },
  {
   "cell_type": "code",
   "execution_count": 34,
   "metadata": {},
   "outputs": [
    {
     "data": {
      "text/plain": [
       "[('tagger', <spacy.pipeline.pipes.Tagger at 0x11f547be0>),\n",
       " ('parser', <spacy.pipeline.pipes.DependencyParser at 0x12cf14be0>),\n",
       " ('entity_ruler', <spacy.pipeline.entityruler.EntityRuler at 0x11e74de50>),\n",
       " ('ner', <spacy.pipeline.pipes.EntityRecognizer at 0x12e02b280>)]"
      ]
     },
     "execution_count": 34,
     "metadata": {},
     "output_type": "execute_result"
    }
   ],
   "source": [
    "nlp.pipeline"
   ]
  },
  {
   "cell_type": "code",
   "execution_count": 35,
   "metadata": {},
   "outputs": [
    {
     "name": "stdout",
     "output_type": "stream",
     "text": [
      "smartphone PRODUCT\n",
      "Daniel PERSON\n",
      "Acme Studios ORG\n",
      "East LOC\n",
      "Edward PERSON\n",
      "Elizabeth PERSON\n",
      "Google ORG\n",
      "Sally PERSON\n",
      "smartphone PRODUCT\n",
      "smartphone PRODUCT\n",
      "smartphone PRODUCT\n",
      "smartphone PRODUCT\n"
     ]
    }
   ],
   "source": [
    "doc = nlp(call_2_text)\n",
    "# Test new entity\n",
    "for entity in doc.ents:\n",
    "  print(entity.text, entity.label_)"
   ]
  },
  {
   "cell_type": "markdown",
   "metadata": {},
   "source": [
    "# Classifying transcribed speech with Sklearn"
   ]
  },
  {
   "cell_type": "code",
   "execution_count": 40,
   "metadata": {},
   "outputs": [
    {
     "name": "stdout",
     "output_type": "stream",
     "text": [
      "           label                                               text\n",
      "0   pre_purchase  how's it going Arthur I just placed an order w...\n",
      "1  post_purchase  yeah hello I'm just wondering if I can speak t...\n",
      "2  post_purchase  hey I receive my order but it's the wrong size...\n",
      "3   pre_purchase  hi David I just placed an order online and I w...\n",
      "4  post_purchase  hey I bought something from your website the o...\n"
     ]
    }
   ],
   "source": [
    "# preparing audio \n",
    "\n",
    "# Convert post purchase\n",
    "#for file in post_purchase:\n",
    "#    print(f\"Converting {file} to .wav...\")\n",
    "    #convert_to_wav(file)\n",
    "\n",
    "# Convert pre purchase\n",
    "#for file in pre_purchase:\n",
    "#    print(f\"Converting {file} to .wav...\")\n",
    "    #convert_to_wav(file)\n",
    "    \n",
    "# Transcribe phone call excerts\n",
    "def create_text_list(folder):\n",
    "  # Create empty list\n",
    "  text_list = []\n",
    "  \n",
    "  # Go through each file\n",
    "  for file in folder:\n",
    "    # Make sure the file is .wav\n",
    "    if file.endswith(\".wav\"):\n",
    "      print(f\"Transcribing file: {file}...\")\n",
    "      \n",
    "      # Transcribe audio and append text to list\n",
    "      text_list.append(transcribe_audio(file))   \n",
    "  return text_list\n",
    "\n",
    "# Transcribe post and pre purchase text\n",
    "#post_purchase_text = create_text_list(post_purchase_wav_files)\n",
    "#pre_purchase_text = create_text_list(pre_purchase_wav_files)\n",
    "\n",
    "\n",
    "# Organize transcribed phone call into pandas\n",
    "import pandas as pd\n",
    "\n",
    "# Make dataframes with the text\n",
    "#post_purchase_df = pd.DataFrame({\"label\": \"post_purchase\", \"text\": post_purchase_text})\n",
    "#pre_purchase_df = pd.DataFrame({\"label\": \"pre_purchase\", \"text\": pre_purchase_text})\n",
    "\n",
    "# Combine DataFrames\n",
    "#df = pd.concat([post_purchase_df, pre_purchase_df])\n",
    "df = pd.read_csv('./customer_call_transcriptions.csv')\n",
    "# Print the combined DataFrame\n",
    "print(df.head())"
   ]
  },
  {
   "cell_type": "code",
   "execution_count": 49,
   "metadata": {},
   "outputs": [
    {
     "name": "stdout",
     "output_type": "stream",
     "text": [
      "The model is 96.77% accurate.\n"
     ]
    }
   ],
   "source": [
    "import numpy as np\n",
    "from sklearn.pipeline import Pipeline\n",
    "from sklearn.naive_bayes import MultinomialNB\n",
    "from sklearn.feature_extraction.text import CountVectorizer, TfidfTransformer\n",
    "from sklearn.model_selection import train_test_split\n",
    "\n",
    "# Create a spoken language text classifier\n",
    "X_train, X_test, y_train, y_test = train_test_split(df[\"text\"], df[\"label\"], test_size=0.3)\n",
    "\n",
    "# Create text classifier pipeline\n",
    "text_classifier = Pipeline([  (\"vectorizer\", CountVectorizer()),  (\"tfidf\", TfidfTransformer()),  (\"classifier\", MultinomialNB())])\n",
    "\n",
    "# Fit the classifier pipeline on the training data\n",
    "text_classifier.fit(X_train, y_train)\n",
    "\n",
    "# Make predictions and compare them to test labels\n",
    "predictions = text_classifier.predict(X_test)\n",
    "accuracy = 100 * np.mean(predictions == y_test)\n",
    "print(f\"The model is {accuracy:.2f}% accurate.\")\n"
   ]
  }
 ],
 "metadata": {
  "kernelspec": {
   "display_name": "Python 3",
   "language": "python",
   "name": "python3"
  },
  "language_info": {
   "codemirror_mode": {
    "name": "ipython",
    "version": 3
   },
   "file_extension": ".py",
   "mimetype": "text/x-python",
   "name": "python",
   "nbconvert_exporter": "python",
   "pygments_lexer": "ipython3",
   "version": "3.8.5"
  }
 },
 "nbformat": 4,
 "nbformat_minor": 4
}
