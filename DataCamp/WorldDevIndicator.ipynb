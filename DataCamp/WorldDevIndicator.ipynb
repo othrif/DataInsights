{
  "nbformat": 4,
  "nbformat_minor": 0,
  "metadata": {
    "colab": {
      "name": "WorldDevIndicator.ipynb",
      "provenance": [],
      "authorship_tag": "ABX9TyPnUu1gCJR74J5Vt1dZjSZq",
      "include_colab_link": true
    },
    "kernelspec": {
      "name": "python3",
      "display_name": "Python 3"
    }
  },
  "cells": [
    {
      "cell_type": "markdown",
      "metadata": {
        "id": "view-in-github",
        "colab_type": "text"
      },
      "source": [
        "<a href=\"https://colab.research.google.com/github/othrif/DataInsights/blob/master/DataCamp/WorldDevIndicator.ipynb\" target=\"_parent\"><img src=\"https://colab.research.google.com/assets/colab-badge.svg\" alt=\"Open In Colab\"/></a>"
      ]
    },
    {
      "cell_type": "markdown",
      "metadata": {
        "id": "i-3i5DctiWa3",
        "colab_type": "text"
      },
      "source": [
        "# World Development Indicator Analysis\n",
        "The primary World Bank collection of development indicators, compiled from officially-recognized international sources. It presents the most current and accurate global development data available, and includes national, regional and global estimates\n",
        "\n",
        "https://datacatalog.worldbank.org/dataset/world-development-indicators"
      ]
    },
    {
      "cell_type": "code",
      "metadata": {
        "id": "cYmthcJlicWW",
        "colab_type": "code",
        "colab": {}
      },
      "source": [
        "import pandas as pd\n",
        "import matplotlib.pyplot as plt"
      ],
      "execution_count": 0,
      "outputs": []
    },
    {
      "cell_type": "markdown",
      "metadata": {
        "id": "XV7RaglqlumS",
        "colab_type": "text"
      },
      "source": [
        "### Load data in chunks using Pandas"
      ]
    },
    {
      "cell_type": "code",
      "metadata": {
        "id": "b6gCRknDkROP",
        "colab_type": "code",
        "colab": {}
      },
      "source": [
        "datapath='https://raw.githubusercontent.com/othrif/DataInsights/master/DataCamp/datasets/world_ind_pop_data.csv'\n",
        "df_reader = pd.read_csv(datapath,chunksize=10)"
      ],
      "execution_count": 0,
      "outputs": []
    },
    {
      "cell_type": "code",
      "metadata": {
        "id": "FVfcVJnJlkEp",
        "colab_type": "code",
        "colab": {
          "base_uri": "https://localhost:8080/",
          "height": 459
        },
        "outputId": "e839179c-3484-48f3-bc48-7801392496d9"
      },
      "source": [
        "print(next(df_reader))\n",
        "print(next(df_reader))"
      ],
      "execution_count": 19,
      "outputs": [
        {
          "output_type": "stream",
          "text": [
            "                                 CountryName  ... Urban population (% of total)\n",
            "0                                 Arab World  ...                     31.285384\n",
            "1                     Caribbean small states  ...                     31.597490\n",
            "2             Central Europe and the Baltics  ...                     44.507921\n",
            "3    East Asia & Pacific (all income levels)  ...                     22.471132\n",
            "4      East Asia & Pacific (developing only)  ...                     16.917679\n",
            "5                                  Euro area  ...                     62.096947\n",
            "6  Europe & Central Asia (all income levels)  ...                     55.378977\n",
            "7    Europe & Central Asia (developing only)  ...                     38.066129\n",
            "8                             European Union  ...                     61.212898\n",
            "9   Fragile and conflict affected situations  ...                     17.891972\n",
            "\n",
            "[10 rows x 5 columns]\n",
            "                                      CountryName  ... Urban population (% of total)\n",
            "10         Heavily indebted poor countries (HIPC)  ...                     12.236046\n",
            "11                                    High income  ...                     62.680332\n",
            "12                           High income: nonOECD  ...                     56.107863\n",
            "13                              High income: OECD  ...                     64.285435\n",
            "14  Latin America & Caribbean (all income levels)  ...                     49.284688\n",
            "15    Latin America & Caribbean (developing only)  ...                     44.863308\n",
            "16   Least developed countries: UN classification  ...                      9.616261\n",
            "17                            Low & middle income  ...                     21.272894\n",
            "18                                     Low income  ...                     11.498396\n",
            "19                            Lower middle income  ...                     19.810513\n",
            "\n",
            "[10 rows x 5 columns]\n"
          ],
          "name": "stdout"
        }
      ]
    },
    {
      "cell_type": "markdown",
      "metadata": {
        "id": "9E3AJJ4bxTj6",
        "colab_type": "text"
      },
      "source": [
        "### Load a small fraction of data to look at"
      ]
    },
    {
      "cell_type": "code",
      "metadata": {
        "id": "rwbI1WcQllyS",
        "colab_type": "code",
        "colab": {
          "base_uri": "https://localhost:8080/",
          "height": 392
        },
        "outputId": "a5c73bf6-1e28-4d23-8d51-6f58254d33f8"
      },
      "source": [
        "urb_pop_reader = pd.read_csv(datapath, chunksize=1000)\n",
        "df_urb_pop = next(urb_pop_reader)\n",
        "df_pop_ceb = df_urb_pop[df_urb_pop['CountryCode'] == 'CEB']\n",
        "pops = zip(df_pop_ceb['Total Population'], \n",
        "           df_pop_ceb['Urban population (% of total)'])\n",
        "pops_list = list(pops)\n",
        "\n",
        "# Use list comprehension to create new DataFrame column 'Total Urban Population'\n",
        "df_pop_ceb['Total Urban Population'] = [int(el1*el2/100) for el1,el2 in pops_list]\n",
        "\n",
        "# Plot urban population data\n",
        "df_pop_ceb.plot(kind='scatter', x='Year', y='Total Urban Population')\n",
        "plt.show()"
      ],
      "execution_count": 30,
      "outputs": [
        {
          "output_type": "stream",
          "text": [
            "/usr/local/lib/python3.6/dist-packages/ipykernel_launcher.py:10: SettingWithCopyWarning: \n",
            "A value is trying to be set on a copy of a slice from a DataFrame.\n",
            "Try using .loc[row_indexer,col_indexer] = value instead\n",
            "\n",
            "See the caveats in the documentation: https://pandas.pydata.org/pandas-docs/stable/user_guide/indexing.html#returning-a-view-versus-a-copy\n",
            "  # Remove the CWD from sys.path while we load stuff.\n"
          ],
          "name": "stderr"
        },
        {
          "output_type": "display_data",
          "data": {
            "image/png": "[encoded data removed]",
            "text/plain": [
              "<Figure size 432x288 with 1 Axes>"
            ]
          },
          "metadata": {
            "tags": [],
            "needs_background": "light"
          }
        }
      ]
    },
    {
      "cell_type": "markdown",
      "metadata": {
        "id": "2hNmD_cVxXXS",
        "colab_type": "text"
      },
      "source": [
        "### Define function and load all data in chunks"
      ]
    },
    {
      "cell_type": "code",
      "metadata": {
        "id": "IVtklI-nvLx_",
        "colab_type": "code",
        "colab": {
          "base_uri": "https://localhost:8080/",
          "height": 648
        },
        "outputId": "ea5dddcf-dd29-4ad9-ebbd-0a3a83b43e2b"
      },
      "source": [
        "# Define plot_pop()\n",
        "def plot_pop(filename, country_code):\n",
        "\n",
        "    # Initialize reader object: urb_pop_reader\n",
        "    urb_pop_reader = pd.read_csv(filename, chunksize=1000)\n",
        "\n",
        "    # Initialize empty DataFrame: data\n",
        "    data = pd.DataFrame()\n",
        "    \n",
        "    # Iterate over each DataFrame chunk\n",
        "    for df_urb_pop in urb_pop_reader:\n",
        "        # Check out specific country: df_pop_ceb\n",
        "        df_pop_ceb = df_urb_pop[df_urb_pop['CountryCode'] == country_code]\n",
        "\n",
        "        # Zip DataFrame columns of interest: pops\n",
        "        pops = zip(df_pop_ceb['Total Population'],\n",
        "                    df_pop_ceb['Urban population (% of total)'])\n",
        "\n",
        "        # Turn zip object into list: pops_list\n",
        "        pops_list = list(pops)\n",
        "\n",
        "        # Use list comprehension to create new DataFrame column 'Total Urban Population'\n",
        "        df_pop_ceb['Total Urban Population'] = [int(tup[0] * tup[1] * 0.01) for tup in pops_list]\n",
        "    \n",
        "        # Append DataFrame chunk to data: data\n",
        "        data = data.append(df_pop_ceb)\n",
        "\n",
        "    # Plot urban population data\n",
        "    data.plot(kind='scatter', x='Year', y='Total Urban Population')\n",
        "    plt.show()\n",
        "\n",
        "# Call plot_pop for country code 'CEB'\n",
        "plot_pop(datapath,'CEB')\n",
        "\n",
        "# Call plot_pop for country code 'ARB'\n",
        "plot_pop(datapath,'ARB')\n"
      ],
      "execution_count": 32,
      "outputs": [
        {
          "output_type": "stream",
          "text": [
            "/usr/local/lib/python3.6/dist-packages/ipykernel_launcher.py:23: SettingWithCopyWarning: \n",
            "A value is trying to be set on a copy of a slice from a DataFrame.\n",
            "Try using .loc[row_indexer,col_indexer] = value instead\n",
            "\n",
            "See the caveats in the documentation: https://pandas.pydata.org/pandas-docs/stable/user_guide/indexing.html#returning-a-view-versus-a-copy\n"
          ],
          "name": "stderr"
        },
        {
          "output_type": "display_data",
          "data": {
            "image/png": "[encoded data removed]",
            "text/plain": [
              "<Figure size 432x288 with 1 Axes>"
            ]
          },
          "metadata": {
            "tags": [],
            "needs_background": "light"
          }
        },
        {
          "output_type": "display_data",
          "data": {
            "image/png": "[encoded data removed]",
            "text/plain": [
              "<Figure size 432x288 with 1 Axes>"
            ]
          },
          "metadata": {
            "tags": [],
            "needs_background": "light"
          }
        }
      ]
    },
    {
      "cell_type": "code",
      "metadata": {
        "id": "Sazy6XZKxFts",
        "colab_type": "code",
        "colab": {}
      },
      "source": [
        ""
      ],
      "execution_count": 0,
      "outputs": []
    }
  ]
}